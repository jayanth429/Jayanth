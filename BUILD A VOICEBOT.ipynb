{
 "cells": [
  {
   "cell_type": "markdown",
   "metadata": {},
   "source": [
    "### VoiceBot needs the below components from the Backend side:\n",
    "\n",
    "#### Train Data : Questions & Related Answers are listed for the Chat Bot to be trained (Wikipedia dataset) Microphone to receive the question from the user \n",
    "\n",
    "#### Text Matching Algorithm : User Question & Train Data Questions matching Algorithm.\n",
    "\n",
    "### Import Necessary Libraries"
   ]
  },
  {
   "cell_type": "markdown",
   "metadata": {},
   "source": [
    "# import nltk\n",
    "import numpy as np\n",
    "import random\n",
    "import string # to process standard python strings\n",
    "import pandas as pd"
   ]
  },
  {
   "cell_type": "markdown",
   "metadata": {},
   "source": [
    "### Import the Dataset and name the columns"
   ]
  },
  {
   "cell_type": "code",
   "execution_count": 2,
   "metadata": {},
   "outputs": [
    {
     "data": {
      "text/html": [
       "<div>\n",
       "<style scoped>\n",
       "    .dataframe tbody tr th:only-of-type {\n",
       "        vertical-align: middle;\n",
       "    }\n",
       "\n",
       "    .dataframe tbody tr th {\n",
       "        vertical-align: top;\n",
       "    }\n",
       "\n",
       "    .dataframe thead th {\n",
       "        text-align: right;\n",
       "    }\n",
       "</style>\n",
       "<table border=\"1\" class=\"dataframe\">\n",
       "  <thead>\n",
       "    <tr style=\"text-align: right;\">\n",
       "      <th></th>\n",
       "      <th>qstn</th>\n",
       "      <th>ans</th>\n",
       "      <th>num</th>\n",
       "    </tr>\n",
       "  </thead>\n",
       "  <tbody>\n",
       "    <tr>\n",
       "      <th>0</th>\n",
       "      <td>how are glacier caves formed ?</td>\n",
       "      <td>A partly submerged glacier cave on Perito More...</td>\n",
       "      <td>0</td>\n",
       "    </tr>\n",
       "    <tr>\n",
       "      <th>1</th>\n",
       "      <td>how are glacier caves formed ?</td>\n",
       "      <td>The ice facade is approximately 60 m high</td>\n",
       "      <td>0</td>\n",
       "    </tr>\n",
       "    <tr>\n",
       "      <th>2</th>\n",
       "      <td>how are glacier caves formed ?</td>\n",
       "      <td>Ice formations in the Titlis glacier cave</td>\n",
       "      <td>0</td>\n",
       "    </tr>\n",
       "    <tr>\n",
       "      <th>3</th>\n",
       "      <td>how are glacier caves formed ?</td>\n",
       "      <td>A glacier cave is a cave formed within the ice...</td>\n",
       "      <td>1</td>\n",
       "    </tr>\n",
       "    <tr>\n",
       "      <th>4</th>\n",
       "      <td>how are glacier caves formed ?</td>\n",
       "      <td>Glacier caves are often called ice caves , but...</td>\n",
       "      <td>0</td>\n",
       "    </tr>\n",
       "  </tbody>\n",
       "</table>\n",
       "</div>"
      ],
      "text/plain": [
       "                             qstn  \\\n",
       "0  how are glacier caves formed ?   \n",
       "1  how are glacier caves formed ?   \n",
       "2  how are glacier caves formed ?   \n",
       "3  how are glacier caves formed ?   \n",
       "4  how are glacier caves formed ?   \n",
       "\n",
       "                                                 ans  num  \n",
       "0  A partly submerged glacier cave on Perito More...    0  \n",
       "1          The ice facade is approximately 60 m high    0  \n",
       "2          Ice formations in the Titlis glacier cave    0  \n",
       "3  A glacier cave is a cave formed within the ice...    1  \n",
       "4  Glacier caves are often called ice caves , but...    0  "
      ]
     },
     "execution_count": 2,
     "metadata": {},
     "output_type": "execute_result"
    }
   ],
   "source": [
    "data = pd.read_csv('D:\\\\Data Science\\\\s5-2&3March 19\\\\WikiQA-train.txt', sep=\"\\t\", header=None)\n",
    "data.columns=[\"qstn\",\"ans\",\"num\"]\n",
    "data[\"qstn\"]=data[\"qstn\"].str.lower()# converts to lowercase\n",
    "data.head()"
   ]
  },
  {
   "cell_type": "markdown",
   "metadata": {},
   "source": [
    "### General Greetings conversation handling"
   ]
  },
  {
   "cell_type": "code",
   "execution_count": 7,
   "metadata": {},
   "outputs": [],
   "source": [
    "GREETING_INPUTS = (\"hello\", \"hi\", \"greetings\", \"sup\", \"what's up\",\"hey\")\n",
    "GREETING_RESPONSES = [\"hi\", \"hey\", \"*nods*\", \"hi there\", \"hello\", \"I am glad! You are talking to me\"]\n",
    "\n",
    "def greeting(sentence): \n",
    "    for word in sentence.split():\n",
    "        if word.lower() in GREETING_INPUTS:\n",
    "            return random.choice(GREETING_RESPONSES)\n"
   ]
  },
  {
   "cell_type": "markdown",
   "metadata": {},
   "source": [
    "### Function to handle:\n",
    "\n",
    "\n"
   ]
  },
  {
   "cell_type": "markdown",
   "metadata": {},
   "source": [
    "1.Word Embedding : tf-idf score\n",
    "2.Similarity check : Cosine similarity\n",
    "3.Cut off similarity score - 0.6"
   ]
  },
  {
   "cell_type": "raw",
   "metadata": {},
   "source": [
    "from sklearn.feature_extraction.text import TfidfVectorizer\n",
    "from sklearn.metrics.pairwise import cosine_similarity\n",
    "\n",
    "def response(user_response):\n",
    "    robo_response=''\n",
    "    qstns = data['qstn'].tolist()\n",
    "    qstns.append(user_response)\n",
    "    TfidfVec = TfidfVectorizer(stop_words='english')\n",
    "    tfidf = TfidfVec.fit_transform(qstns)\n",
    "    vals = cosine_similarity(tfidf[-1], tfidf)\n",
    "    print(vals)\n",
    "    idx=vals.argsort()[0][-2]\n",
    "    flat = vals.flatten()\n",
    "    flat.sort()\n",
    "    req_tfidf = flat[-2]\n",
    "    print(req_tfidf)\n",
    "    print(idx)\n",
    "    if(req_tfidf<0.6):\n",
    "        robo_response=robo_response+\"I am sorry! I don't understand you\"\n",
    "        return robo_response\n",
    "    else:\n",
    "        robo_response = robo_response+data['ans'][idx]\n",
    "        return robo_response"
   ]
  },
  {
   "cell_type": "code",
   "execution_count": 6,
   "metadata": {},
   "outputs": [
    {
     "name": "stdout",
     "output_type": "stream",
     "text": [
      "ROBO: My name is Robo. I will answer your queries about Chatbots. If you want to exit, type Bye!\n",
      "hi\n",
      "ROBO: hi\n",
      "how glacier caves are formed?\n",
      "ROBO: [[1. 1. 1. ... 0. 0. 1.]]\n",
      "1.0000000000000002\n",
      "4\n",
      "Glacier caves are often called ice caves , but this term is properly used to describe bedrock caves that contain year-round ice .\n",
      "Thank you\n",
      "ROBO: You are welcome..\n"
     ]
    }
   ],
   "source": [
    "flag=True\n",
    "print(\"ROBO: My name is Robo. I will answer your queries about Chatbots. If you want to exit, type Bye!\")\n",
    "while(flag==True):\n",
    "    # In case of voice not recognized clearly\n",
    "    user_response = input()\n",
    "    user_response=user_response.lower()\n",
    "    if(user_response!='bye'):\n",
    "        if(user_response=='thanks' or user_response=='thank you' ):\n",
    "            flag=False\n",
    "            print(\"ROBO: You are welcome..\")             # terminating Bot when user says bye\n",
    "        else:\n",
    "            if(greeting(user_response)!=None):\n",
    "                print(\"ROBO: \"+greeting(user_response))  # 1. Basic Greetings Reply\n",
    "            else:\n",
    "                print(\"ROBO: \",end=\"\")\n",
    "                print(response(user_response))\n",
    "               # sent_tokens.remove(user_response)\n",
    "    else:\n",
    "        flag=False\n",
    "        print(\"ROBO: Bye! take care..\")"
   ]
  },
  {
   "cell_type": "code",
   "execution_count": 8,
   "metadata": {},
   "outputs": [
    {
     "name": "stdout",
     "output_type": "stream",
     "text": [
      "ROBO: My name is Robo. I will answer your queries about Chatbots. If you want to exit, type Bye!\n",
      "Speak Anything :\n",
      "You said : hi\n",
      "ROBO: *nods*\n",
      "Speak Anything :\n",
      "You said : hello\n",
      "ROBO: hi\n",
      "Speak Anything :\n",
      "You said : how are glaciers caves formed\n",
      "ROBO: [[0.56631056 0.56631056 0.56631056 ... 0.         0.         1.        ]]\n",
      "0.566310557187721\n",
      "4\n",
      "I am sorry! I don't understand you\n",
      "Speak Anything :\n",
      "Sorry could not recognize your voice\n",
      "ROBO: [[0.56631056 0.56631056 0.56631056 ... 0.         0.         1.        ]]\n",
      "0.566310557187721\n",
      "4\n",
      "I am sorry! I don't understand you\n",
      "Speak Anything :\n",
      "You said : how Glacier case of sound\n",
      "ROBO: [[0.40318434 0.40318434 0.40318434 ... 0.         0.         1.        ]]\n",
      "0.4031843397487883\n",
      "4\n",
      "I am sorry! I don't understand you\n",
      "Speak Anything :\n",
      "You said : thank you\n",
      "ROBO: You are welcome..\n"
     ]
    }
   ],
   "source": [
    "import speech_recognition as sr                   # import the library\n",
    "\n",
    "flag=True\n",
    "print(\"ROBO: My name is Robo. I will answer your queries about Chatbots. If you want to exit, type Bye!\")\n",
    "while(flag==True):\n",
    "    r = sr.Recognizer()                                  # initialize recognizer\n",
    "    with sr.Microphone() as Microphone:                  # mention source it will be either Microphone or audio files.\n",
    "        print(\"Speak Anything :\")\n",
    "        audio = r.listen(Microphone)                     # listen to the source\n",
    "    try:\n",
    "        text = r.recognize_google(audio)                 # use recognizer to convert our audio into text part.\n",
    "        print(\"You said : {}\".format(text))\n",
    "    except:\n",
    "        print(\"Sorry could not recognize your voice\")    # In case of voice not recognized clearly\n",
    "    user_response = text\n",
    "    user_response=user_response.lower()\n",
    "    if(user_response!='bye'):\n",
    "        if(user_response=='thanks' or user_response=='thank you' ):\n",
    "            flag=False\n",
    "            print(\"ROBO: You are welcome..\")             # terminating Bot when user says bye\n",
    "        else:\n",
    "            if(greeting(user_response)!=None):\n",
    "                print(\"ROBO: \"+greeting(user_response))  # 1. Basic Greetings Reply\n",
    "            else:\n",
    "                print(\"ROBO: \",end=\"\")\n",
    "                print(response(user_response))\n",
    "               # sent_tokens.remove(user_response)\n",
    "    else:\n",
    "        flag=False\n",
    "        print(\"ROBO: Bye! take care..\")"
   ]
  },
  {
   "cell_type": "code",
   "execution_count": null,
   "metadata": {},
   "outputs": [],
   "source": []
  }
 ],
 "metadata": {
  "kernelspec": {
   "display_name": "Python 3",
   "language": "python",
   "name": "python3"
  },
  "language_info": {
   "codemirror_mode": {
    "name": "ipython",
    "version": 3
   },
   "file_extension": ".py",
   "mimetype": "text/x-python",
   "name": "python",
   "nbconvert_exporter": "python",
   "pygments_lexer": "ipython3",
   "version": "3.7.1"
  }
 },
 "nbformat": 4,
 "nbformat_minor": 2
}
